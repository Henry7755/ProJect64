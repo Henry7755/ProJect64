{
 "cells": [
  {
   "cell_type": "code",
   "execution_count": 1,
   "id": "a20b2075",
   "metadata": {},
   "outputs": [],
   "source": [
    "import tensorflow  as tf\n",
    "from tensorflow import keras\n"
   ]
  },
  {
   "cell_type": "code",
   "execution_count": null,
   "id": "b2c23054",
   "metadata": {},
   "outputs": [],
   "source": [
    "# __ --- Implementing a single layer ---__\n",
    "class SimpleDense(keras.layers.Layer):\n",
    "    def __init__(self, units, activation = None):\n",
    "        super().__init__()\n",
    "        self.units = units\n",
    "        self.activation  = activation\n",
    "    \n",
    "    def build(self, input_shape):\n",
    "        input_dim  = input_shape[-1]\n",
    "        \n",
    "        self.W = self.add_weight(shape = (input_dim, self.units),\n",
    "                                 initializeer = \"random_normal\")\n",
    "        \n",
    "        self.b = self.add_weight(shape = (self.units,),\n",
    "                                 initializer ='zeros')\n",
    "        \n",
    "    def call (self, inputs):\n",
    "        y = tf.matmul(inputs,self.W) + self.b\n",
    "        if self.activation is not None:\n",
    "            y  = self.activation(y)\n",
    "        return y\n",
    "            \n",
    "   "
   ]
  },
  {
   "cell_type": "code",
   "execution_count": null,
   "id": "4eb1f9f2",
   "metadata": {},
   "outputs": [
    {
     "name": "stdout",
     "output_type": "stream",
     "text": [
      "tf.Tensor(\n",
      "[[2.71949    0.6772208  0.2537579  0.3213657  3.0398135  1.3897898\n",
      "  0.03781308 0.         1.8697369  0.         0.         0.15280849\n",
      "  0.         0.39089546 0.         0.25506854 0.         0.\n",
      "  0.         1.5171598  0.         1.5031741  0.         1.36084\n",
      "  0.31969738 0.8108763  0.67818224 0.5994952  0.         0.29693338\n",
      "  1.17469    0.        ]\n",
      " [2.71949    0.6772208  0.2537579  0.3213657  3.0398135  1.3897898\n",
      "  0.03781308 0.         1.8697369  0.         0.         0.15280849\n",
      "  0.         0.39089546 0.         0.25506854 0.         0.\n",
      "  0.         1.5171598  0.         1.5031741  0.         1.36084\n",
      "  0.31969738 0.8108763  0.67818224 0.5994952  0.         0.29693338\n",
      "  1.17469    0.        ]], shape=(2, 32), dtype=float32)\n"
     ]
    }
   ],
   "source": [
    "my_dense = SimpleDense(units = 32, activation = tf.nn.relu)\n",
    "input_tensor = tf.ones(shape = (2,784))\n",
    "output_tensor = my_dense(input_tensor)\n",
    "print(output_tensor)"
   ]
  },
  {
   "cell_type": "code",
   "execution_count": null,
   "id": "b7d9a1d8",
   "metadata": {},
   "outputs": [],
   "source": []
  }
 ],
 "metadata": {
  "kernelspec": {
   "display_name": "ProJect64",
   "language": "python",
   "name": "python3"
  },
  "language_info": {
   "codemirror_mode": {
    "name": "ipython",
    "version": 3
   },
   "file_extension": ".py",
   "mimetype": "text/x-python",
   "name": "python",
   "nbconvert_exporter": "python",
   "pygments_lexer": "ipython3",
   "version": "3.12.9"
  }
 },
 "nbformat": 4,
 "nbformat_minor": 5
}
