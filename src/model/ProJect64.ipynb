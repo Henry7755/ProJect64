{
  "cells": [
    {
      "cell_type": "code",
      "execution_count": null,
      "metadata": {},
      "outputs": [
        {
          "name": "stderr",
          "output_type": "stream",
          "text": [
            "2025-07-22 23:25:06.898763: I external/local_xla/xla/tsl/cuda/cudart_stub.cc:32] Could not find cuda drivers on your machine, GPU will not be used.\n",
            "2025-07-22 23:25:06.907917: I external/local_xla/xla/tsl/cuda/cudart_stub.cc:32] Could not find cuda drivers on your machine, GPU will not be used.\n",
            "2025-07-22 23:25:06.930994: E external/local_xla/xla/stream_executor/cuda/cuda_fft.cc:467] Unable to register cuFFT factory: Attempting to register factory for plugin cuFFT when one has already been registered\n",
            "WARNING: All log messages before absl::InitializeLog() is called are written to STDERR\n",
            "E0000 00:00:1753226706.969528   10464 cuda_dnn.cc:8579] Unable to register cuDNN factory: Attempting to register factory for plugin cuDNN when one has already been registered\n",
            "E0000 00:00:1753226706.980328   10464 cuda_blas.cc:1407] Unable to register cuBLAS factory: Attempting to register factory for plugin cuBLAS when one has already been registered\n",
            "W0000 00:00:1753226707.011719   10464 computation_placer.cc:177] computation placer already registered. Please check linkage and avoid linking the same target more than once.\n",
            "W0000 00:00:1753226707.011773   10464 computation_placer.cc:177] computation placer already registered. Please check linkage and avoid linking the same target more than once.\n",
            "W0000 00:00:1753226707.011777   10464 computation_placer.cc:177] computation placer already registered. Please check linkage and avoid linking the same target more than once.\n",
            "W0000 00:00:1753226707.011781   10464 computation_placer.cc:177] computation placer already registered. Please check linkage and avoid linking the same target more than once.\n",
            "2025-07-22 23:25:07.022757: I tensorflow/core/platform/cpu_feature_guard.cc:210] This TensorFlow binary is optimized to use available CPU instructions in performance-critical operations.\n",
            "To enable the following instructions: AVX2 FMA, in other operations, rebuild TensorFlow with the appropriate compiler flags.\n"
          ]
        }
      ],
      "source": [
        "import tensorflow as tf\n",
        "from tensorflow.keras import layers, Model, Input\n",
        "from tensorflow.keras.losses import MeanSquaredError, MeanAbsoluteError\n",
        "from tensorflow.keras.optimizers import Adam\n",
        "\n",
        "\n",
        "\n",
        "from sklearn.metrics import roc_curve, auc\n",
        "import matplotlib.pyplot as plt\n",
        "import numpy as np\n"
      ]
    },
    {
      "cell_type": "markdown",
      "metadata": {},
      "source": [
        "### Data Preprocessing "
      ]
    },
    {
      "cell_type": "code",
      "execution_count": 12,
      "metadata": {},
      "outputs": [],
      "source": [
        "from sklearn.model_selection import train_test_split\n",
        "\n",
        "ecg_data = np.load(\"/home/psyche/Documents/ProJect64/ProJect64 System Architect/Data/Model_data/ecgModel_data.npy\")\n",
        "pcg_data = np.load(\"/home/psyche/Documents/ProJect64/ProJect64 System Architect/Data/Model_data/pcgModel_data.npy\")\n",
        "\n",
        "ecgTrain, ecgTemp = train_test_split(ecg_data, test_size=0.4, random_state=42, shuffle=True)\n",
        "pcgTrain, pcgTemp = train_test_split(pcg_data, test_size=0.4, random_state=42, shuffle=True)\n",
        "\n",
        "ecgVal,ecgTest = train_test_split(ecgTemp, test_size=0.5, random_state=42, shuffle=True)\n",
        "pcgVal,pcgTest = train_test_split(pcgTemp, test_size=0.5, random_state=42, shuffle=True)\n",
        "\n"
      ]
    },
    {
      "cell_type": "code",
      "execution_count": 13,
      "metadata": {},
      "outputs": [],
      "source": [
        "np.save(\"ecgTrain.npy\", ecgTrain)\n",
        "np.save(\"pcgTrain.npy\", pcgTrain)\n",
        "np.save(\"ecgVal.npy\", ecgVal)\n",
        "np.save(\"pcgVal.npy\", pcgVal)\n",
        "np.save(\"ecgTest.npy\", ecgTest)\n",
        "np.save(\"pcgTest.npy\", pcgTest)"
      ]
    },
    {
      "cell_type": "code",
      "execution_count": null,
      "metadata": {},
      "outputs": [],
      "source": []
    },
    {
      "cell_type": "markdown",
      "metadata": {
        "id": "u3Lw5If4rGMc"
      },
      "source": [
        "### Encoders\n",
        "This stream of code is an encoder for Variational Autoencoder model\n"
      ]
    },
    {
      "cell_type": "code",
      "execution_count": 14,
      "metadata": {},
      "outputs": [],
      "source": [
        "def build_encoder(input_dim, latent_dim=32, hidden_dims=[256, 128], name_prefix=\"enc\"):\n",
        "    inputs = Input(shape=(input_dim,), name=f\"{name_prefix}_input\")\n",
        "    x = inputs\n",
        "    for i, dim in enumerate(hidden_dims):\n",
        "        x = layers.Dense(dim, activation=\"relu\", name=f\"{name_prefix}_dense_{i}\")(x)\n",
        "    z_mean = layers.Dense(latent_dim, name=f\"{name_prefix}_z_mean\")(x)\n",
        "    z_log_var = layers.Dense(latent_dim, name=f\"{name_prefix}_z_log_var\")(x)\n",
        "    return Model(inputs, [z_mean, z_log_var], name=f\"{name_prefix}_encoder\")\n"
      ]
    },
    {
      "cell_type": "markdown",
      "metadata": {
        "id": "Nv6fuSGrrcU0"
      },
      "source": [
        "### Decoders\n",
        "This stream of code for the decoder for the model."
      ]
    },
    {
      "cell_type": "code",
      "execution_count": 3,
      "metadata": {
        "id": "WqnMPA6qvFlJ"
      },
      "outputs": [],
      "source": [
        "def build_decoder(output_dim, latent_dim=32, hidden_dims=[128, 256], name_prefix=\"dec\"):\n",
        "    latent_inputs = Input(shape=(latent_dim,), name=f\"{name_prefix}_input\")\n",
        "    x = latent_inputs\n",
        "    for i, dim in enumerate(hidden_dims):\n",
        "        x = layers.Dense(dim, activation=\"relu\", name=f\"{name_prefix}_dense_{i}\")(x)\n",
        "    outputs = layers.Dense(output_dim, activation=\"tanh\", name=f\"{name_prefix}_output\")(x)\n",
        "    return Model(latent_inputs, outputs, name=f\"{name_prefix}_decoder\")\n",
        "\n"
      ]
    },
    {
      "cell_type": "code",
      "execution_count": 4,
      "metadata": {},
      "outputs": [],
      "source": [
        "def sampling(z_mean, z_log_var):\n",
        "    epsilon = tf.random.normal(shape=tf.shape(z_mean))\n",
        "    return z_mean + tf.exp(0.5 * z_log_var) * epsilon"
      ]
    },
    {
      "cell_type": "markdown",
      "metadata": {},
      "source": [
        "### Model "
      ]
    },
    {
      "cell_type": "code",
      "execution_count": 5,
      "metadata": {},
      "outputs": [],
      "source": [
        "class MultimodalVAE(Model):\n",
        "    def __init__(self, ecg_encoder, pcg_encoder, ecg_decoder, pcg_decoder, latent_dim=32, **kwargs):\n",
        "        super(MultimodalVAE, self).__init__(**kwargs)\n",
        "        self.ecg_encoder = ecg_encoder\n",
        "        self.pcg_encoder = pcg_encoder\n",
        "        self.ecg_decoder = ecg_decoder\n",
        "        self.pcg_decoder = pcg_decoder\n",
        "        self.latent_dim = latent_dim\n",
        "        self.loss_fn = MeanSquaredError()\n",
        "\n",
        "    def compile(self, optimizer):\n",
        "        super().compile()\n",
        "        self.optimizer = optimizer\n",
        "        self.total_loss_tracker = tf.keras.metrics.Mean(name=\"loss\")\n",
        "        self.kl_loss_tracker = tf.keras.metrics.Mean(name=\"kl_loss\")\n",
        "        self.recon_loss_tracker = tf.keras.metrics.Mean(name=\"reconstruction_loss\")\n",
        "\n",
        "    @property\n",
        "    def metrics(self):\n",
        "        return [self.total_loss_tracker, self.recon_loss_tracker, self.kl_loss_tracker]\n",
        "\n",
        "    def train_step(self, data):\n",
        "        ecg = data[\"ecg_input\"]\n",
        "        pcg = data[\"pcg_input\"]\n",
        "\n",
        "        with tf.GradientTape() as tape:\n",
        "            z_mean_ecg, z_log_var_ecg = self.ecg_encoder(ecg)\n",
        "            z_mean_pcg, z_log_var_pcg = self.pcg_encoder(pcg)\n",
        "\n",
        "            # Concatenate latent mean and logvar\n",
        "            z_mean = tf.concat([z_mean_ecg, z_mean_pcg], axis=1)\n",
        "            z_log_var = tf.concat([z_log_var_ecg, z_log_var_pcg], axis=1)\n",
        "\n",
        "            z = sampling(z_mean, z_log_var)\n",
        "\n",
        "            ecg_recon = self.ecg_decoder(z)\n",
        "            pcg_recon = self.pcg_decoder(z)\n",
        "\n",
        "            ecg_loss = self.loss_fn(ecg, ecg_recon)\n",
        "            pcg_loss = self.loss_fn(pcg, pcg_recon)\n",
        "            recon_loss = ecg_loss + pcg_loss\n",
        "\n",
        "            kl_loss = -0.5 * tf.reduce_mean(\n",
        "                tf.reduce_sum(1 + z_log_var - tf.square(z_mean) - tf.exp(z_log_var), axis=1)\n",
        "            )\n",
        "\n",
        "            total_loss = recon_loss + kl_loss\n",
        "\n",
        "        grads = tape.gradient(total_loss, self.trainable_weights)\n",
        "        self.optimizer.apply_gradients(zip(grads, self.trainable_weights))\n",
        "\n",
        "        self.total_loss_tracker.update_state(total_loss)\n",
        "        self.recon_loss_tracker.update_state(recon_loss)\n",
        "        self.kl_loss_tracker.update_state(kl_loss)\n",
        "\n",
        "        return {\n",
        "            \"loss\": self.total_loss_tracker.result(),\n",
        "            \"recon_loss\": self.recon_loss_tracker.result(),\n",
        "            \"kl_loss\": self.kl_loss_tracker.result(),\n",
        "        }\n"
      ]
    },
    {
      "cell_type": "code",
      "execution_count": 6,
      "metadata": {},
      "outputs": [
        {
          "name": "stderr",
          "output_type": "stream",
          "text": [
            "2025-07-22 23:25:23.411693: E external/local_xla/xla/stream_executor/cuda/cuda_platform.cc:51] failed call to cuInit: INTERNAL: CUDA error: Failed call to cuInit: UNKNOWN ERROR (303)\n"
          ]
        },
        {
          "data": {
            "text/html": [
              "<pre style=\"white-space:pre;overflow-x:auto;line-height:normal;font-family:Menlo,'DejaVu Sans Mono',consolas,'Courier New',monospace\"><span style=\"font-weight: bold\">Model: \"multimodal_vae\"</span>\n",
              "</pre>\n"
            ],
            "text/plain": [
              "\u001b[1mModel: \"multimodal_vae\"\u001b[0m\n"
            ]
          },
          "metadata": {},
          "output_type": "display_data"
        },
        {
          "data": {
            "text/html": [
              "<pre style=\"white-space:pre;overflow-x:auto;line-height:normal;font-family:Menlo,'DejaVu Sans Mono',consolas,'Courier New',monospace\">┏━━━━━━━━━━━━━━━━━━━━━━━━━━━━━━━━━┳━━━━━━━━━━━━━━━━━━━━━━━━┳━━━━━━━━━━━━━━━┓\n",
              "┃<span style=\"font-weight: bold\"> Layer (type)                    </span>┃<span style=\"font-weight: bold\"> Output Shape           </span>┃<span style=\"font-weight: bold\">       Param # </span>┃\n",
              "┡━━━━━━━━━━━━━━━━━━━━━━━━━━━━━━━━━╇━━━━━━━━━━━━━━━━━━━━━━━━╇━━━━━━━━━━━━━━━┩\n",
              "│ ecg_encoder (<span style=\"color: #0087ff; text-decoration-color: #0087ff\">Functional</span>)        │ (<span style=\"color: #00af00; text-decoration-color: #00af00\">(None, 18)</span>, <span style=\"color: #00af00; text-decoration-color: #00af00\">(None, </span>   │     <span style=\"color: #00af00; text-decoration-color: #00af00\">2,701,092</span> │\n",
              "│                                 │ <span style=\"color: #00af00; text-decoration-color: #00af00\">18)</span>)                   │               │\n",
              "├─────────────────────────────────┼────────────────────────┼───────────────┤\n",
              "│ pcg_encoder (<span style=\"color: #0087ff; text-decoration-color: #0087ff\">Functional</span>)        │ (<span style=\"color: #00af00; text-decoration-color: #00af00\">(None, 18)</span>, <span style=\"color: #00af00; text-decoration-color: #00af00\">(None, </span>   │     <span style=\"color: #00af00; text-decoration-color: #00af00\">2,701,092</span> │\n",
              "│                                 │ <span style=\"color: #00af00; text-decoration-color: #00af00\">18)</span>)                   │               │\n",
              "├─────────────────────────────────┼────────────────────────┼───────────────┤\n",
              "│ ecg_decoder (<span style=\"color: #0087ff; text-decoration-color: #0087ff\">Functional</span>)        │ (<span style=\"color: #00d7ff; text-decoration-color: #00d7ff\">None</span>, <span style=\"color: #00af00; text-decoration-color: #00af00\">5000</span>)           │     <span style=\"color: #00af00; text-decoration-color: #00af00\">2,706,056</span> │\n",
              "├─────────────────────────────────┼────────────────────────┼───────────────┤\n",
              "│ pcg_decoder (<span style=\"color: #0087ff; text-decoration-color: #0087ff\">Functional</span>)        │ (<span style=\"color: #00d7ff; text-decoration-color: #00d7ff\">None</span>, <span style=\"color: #00af00; text-decoration-color: #00af00\">5000</span>)           │     <span style=\"color: #00af00; text-decoration-color: #00af00\">2,706,056</span> │\n",
              "└─────────────────────────────────┴────────────────────────┴───────────────┘\n",
              "</pre>\n"
            ],
            "text/plain": [
              "┏━━━━━━━━━━━━━━━━━━━━━━━━━━━━━━━━━┳━━━━━━━━━━━━━━━━━━━━━━━━┳━━━━━━━━━━━━━━━┓\n",
              "┃\u001b[1m \u001b[0m\u001b[1mLayer (type)                   \u001b[0m\u001b[1m \u001b[0m┃\u001b[1m \u001b[0m\u001b[1mOutput Shape          \u001b[0m\u001b[1m \u001b[0m┃\u001b[1m \u001b[0m\u001b[1m      Param #\u001b[0m\u001b[1m \u001b[0m┃\n",
              "┡━━━━━━━━━━━━━━━━━━━━━━━━━━━━━━━━━╇━━━━━━━━━━━━━━━━━━━━━━━━╇━━━━━━━━━━━━━━━┩\n",
              "│ ecg_encoder (\u001b[38;5;33mFunctional\u001b[0m)        │ (\u001b[38;5;34m(None, 18)\u001b[0m, \u001b[38;5;34m(None, \u001b[0m   │     \u001b[38;5;34m2,701,092\u001b[0m │\n",
              "│                                 │ \u001b[38;5;34m18)\u001b[0m)                   │               │\n",
              "├─────────────────────────────────┼────────────────────────┼───────────────┤\n",
              "│ pcg_encoder (\u001b[38;5;33mFunctional\u001b[0m)        │ (\u001b[38;5;34m(None, 18)\u001b[0m, \u001b[38;5;34m(None, \u001b[0m   │     \u001b[38;5;34m2,701,092\u001b[0m │\n",
              "│                                 │ \u001b[38;5;34m18)\u001b[0m)                   │               │\n",
              "├─────────────────────────────────┼────────────────────────┼───────────────┤\n",
              "│ ecg_decoder (\u001b[38;5;33mFunctional\u001b[0m)        │ (\u001b[38;5;45mNone\u001b[0m, \u001b[38;5;34m5000\u001b[0m)           │     \u001b[38;5;34m2,706,056\u001b[0m │\n",
              "├─────────────────────────────────┼────────────────────────┼───────────────┤\n",
              "│ pcg_decoder (\u001b[38;5;33mFunctional\u001b[0m)        │ (\u001b[38;5;45mNone\u001b[0m, \u001b[38;5;34m5000\u001b[0m)           │     \u001b[38;5;34m2,706,056\u001b[0m │\n",
              "└─────────────────────────────────┴────────────────────────┴───────────────┘\n"
            ]
          },
          "metadata": {},
          "output_type": "display_data"
        },
        {
          "data": {
            "text/html": [
              "<pre style=\"white-space:pre;overflow-x:auto;line-height:normal;font-family:Menlo,'DejaVu Sans Mono',consolas,'Courier New',monospace\"><span style=\"font-weight: bold\"> Total params: </span><span style=\"color: #00af00; text-decoration-color: #00af00\">10,814,296</span> (41.25 MB)\n",
              "</pre>\n"
            ],
            "text/plain": [
              "\u001b[1m Total params: \u001b[0m\u001b[38;5;34m10,814,296\u001b[0m (41.25 MB)\n"
            ]
          },
          "metadata": {},
          "output_type": "display_data"
        },
        {
          "data": {
            "text/html": [
              "<pre style=\"white-space:pre;overflow-x:auto;line-height:normal;font-family:Menlo,'DejaVu Sans Mono',consolas,'Courier New',monospace\"><span style=\"font-weight: bold\"> Trainable params: </span><span style=\"color: #00af00; text-decoration-color: #00af00\">10,814,296</span> (41.25 MB)\n",
              "</pre>\n"
            ],
            "text/plain": [
              "\u001b[1m Trainable params: \u001b[0m\u001b[38;5;34m10,814,296\u001b[0m (41.25 MB)\n"
            ]
          },
          "metadata": {},
          "output_type": "display_data"
        },
        {
          "data": {
            "text/html": [
              "<pre style=\"white-space:pre;overflow-x:auto;line-height:normal;font-family:Menlo,'DejaVu Sans Mono',consolas,'Courier New',monospace\"><span style=\"font-weight: bold\"> Non-trainable params: </span><span style=\"color: #00af00; text-decoration-color: #00af00\">0</span> (0.00 B)\n",
              "</pre>\n"
            ],
            "text/plain": [
              "\u001b[1m Non-trainable params: \u001b[0m\u001b[38;5;34m0\u001b[0m (0.00 B)\n"
            ]
          },
          "metadata": {},
          "output_type": "display_data"
        },
        {
          "name": "stdout",
          "output_type": "stream",
          "text": [
            "Epoch 1/30\n",
            "\u001b[1m106/106\u001b[0m \u001b[32m━━━━━━━━━━━━━━━━━━━━\u001b[0m\u001b[37m\u001b[0m \u001b[1m37s\u001b[0m 273ms/step - kl_loss: 1.2726 - loss: 1.5538 - recon_loss: 0.2812\n",
            "Epoch 2/30\n",
            "\u001b[1m106/106\u001b[0m \u001b[32m━━━━━━━━━━━━━━━━━━━━\u001b[0m\u001b[37m\u001b[0m \u001b[1m27s\u001b[0m 253ms/step - kl_loss: 0.0131 - loss: 0.2871 - recon_loss: 0.2740\n",
            "Epoch 3/30\n",
            "\u001b[1m106/106\u001b[0m \u001b[32m━━━━━━━━━━━━━━━━━━━━\u001b[0m\u001b[37m\u001b[0m \u001b[1m27s\u001b[0m 250ms/step - kl_loss: 7.2569e-04 - loss: 0.2774 - recon_loss: 0.2767\n",
            "Epoch 4/30\n",
            "\u001b[1m106/106\u001b[0m \u001b[32m━━━━━━━━━━━━━━━━━━━━\u001b[0m\u001b[37m\u001b[0m \u001b[1m27s\u001b[0m 251ms/step - kl_loss: 1.0931e-04 - loss: 0.2703 - recon_loss: 0.2702\n",
            "Epoch 5/30\n",
            "\u001b[1m106/106\u001b[0m \u001b[32m━━━━━━━━━━━━━━━━━━━━\u001b[0m\u001b[37m\u001b[0m \u001b[1m41s\u001b[0m 252ms/step - kl_loss: 3.3186e-04 - loss: 0.2759 - recon_loss: 0.2756\n",
            "Epoch 6/30\n",
            "\u001b[1m106/106\u001b[0m \u001b[32m━━━━━━━━━━━━━━━━━━━━\u001b[0m\u001b[37m\u001b[0m \u001b[1m38s\u001b[0m 223ms/step - kl_loss: 3.9242e-04 - loss: 0.2705 - recon_loss: 0.2701\n",
            "Epoch 7/30\n",
            "\u001b[1m106/106\u001b[0m \u001b[32m━━━━━━━━━━━━━━━━━━━━\u001b[0m\u001b[37m\u001b[0m \u001b[1m21s\u001b[0m 198ms/step - kl_loss: 1.4658e-04 - loss: 0.2724 - recon_loss: 0.2722\n",
            "Epoch 8/30\n",
            "\u001b[1m106/106\u001b[0m \u001b[32m━━━━━━━━━━━━━━━━━━━━\u001b[0m\u001b[37m\u001b[0m \u001b[1m22s\u001b[0m 212ms/step - kl_loss: 0.0045 - loss: 0.2769 - recon_loss: 0.2724\n",
            "Epoch 9/30\n",
            "\u001b[1m106/106\u001b[0m \u001b[32m━━━━━━━━━━━━━━━━━━━━\u001b[0m\u001b[37m\u001b[0m \u001b[1m24s\u001b[0m 223ms/step - kl_loss: 4.2329e-06 - loss: 0.2721 - recon_loss: 0.2721\n",
            "Epoch 10/30\n",
            "\u001b[1m106/106\u001b[0m \u001b[32m━━━━━━━━━━━━━━━━━━━━\u001b[0m\u001b[37m\u001b[0m \u001b[1m23s\u001b[0m 216ms/step - kl_loss: 6.7145e-07 - loss: 0.2715 - recon_loss: 0.2715\n",
            "Epoch 11/30\n",
            "\u001b[1m106/106\u001b[0m \u001b[32m━━━━━━━━━━━━━━━━━━━━\u001b[0m\u001b[37m\u001b[0m \u001b[1m29s\u001b[0m 272ms/step - kl_loss: 1.1484e-07 - loss: 0.2793 - recon_loss: 0.2793\n",
            "Epoch 12/30\n",
            "\u001b[1m106/106\u001b[0m \u001b[32m━━━━━━━━━━━━━━━━━━━━\u001b[0m\u001b[37m\u001b[0m \u001b[1m40s\u001b[0m 258ms/step - kl_loss: 5.7069e-08 - loss: 0.2786 - recon_loss: 0.2786\n",
            "Epoch 13/30\n",
            "\u001b[1m106/106\u001b[0m \u001b[32m━━━━━━━━━━━━━━━━━━━━\u001b[0m\u001b[37m\u001b[0m \u001b[1m44s\u001b[0m 283ms/step - kl_loss: 4.8305e-08 - loss: 0.2760 - recon_loss: 0.2760\n",
            "Epoch 14/30\n",
            "\u001b[1m106/106\u001b[0m \u001b[32m━━━━━━━━━━━━━━━━━━━━\u001b[0m\u001b[37m\u001b[0m \u001b[1m23s\u001b[0m 216ms/step - kl_loss: 4.0578e-08 - loss: 0.2710 - recon_loss: 0.2710\n",
            "Epoch 15/30\n",
            "\u001b[1m106/106\u001b[0m \u001b[32m━━━━━━━━━━━━━━━━━━━━\u001b[0m\u001b[37m\u001b[0m \u001b[1m23s\u001b[0m 214ms/step - kl_loss: 1.3820e-08 - loss: 0.2722 - recon_loss: 0.2722\n",
            "Epoch 16/30\n",
            "\u001b[1m106/106\u001b[0m \u001b[32m━━━━━━━━━━━━━━━━━━━━\u001b[0m\u001b[37m\u001b[0m \u001b[1m22s\u001b[0m 211ms/step - kl_loss: 1.3147e-08 - loss: 0.2745 - recon_loss: 0.2745\n",
            "Epoch 17/30\n",
            "\u001b[1m106/106\u001b[0m \u001b[32m━━━━━━━━━━━━━━━━━━━━\u001b[0m\u001b[37m\u001b[0m \u001b[1m23s\u001b[0m 214ms/step - kl_loss: 3.6676e-09 - loss: 0.2730 - recon_loss: 0.2730\n",
            "Epoch 18/30\n",
            "\u001b[1m106/106\u001b[0m \u001b[32m━━━━━━━━━━━━━━━━━━━━\u001b[0m\u001b[37m\u001b[0m \u001b[1m43s\u001b[0m 234ms/step - kl_loss: 2.7570e-09 - loss: 0.2728 - recon_loss: 0.2728\n",
            "Epoch 19/30\n",
            "\u001b[1m106/106\u001b[0m \u001b[32m━━━━━━━━━━━━━━━━━━━━\u001b[0m\u001b[37m\u001b[0m \u001b[1m23s\u001b[0m 213ms/step - kl_loss: 1.3178e-09 - loss: 0.2730 - recon_loss: 0.2730\n",
            "Epoch 20/30\n",
            "\u001b[1m106/106\u001b[0m \u001b[32m━━━━━━━━━━━━━━━━━━━━\u001b[0m\u001b[37m\u001b[0m \u001b[1m24s\u001b[0m 229ms/step - kl_loss: 2.8414e-09 - loss: 0.2695 - recon_loss: 0.2695\n",
            "Epoch 21/30\n",
            "\u001b[1m106/106\u001b[0m \u001b[32m━━━━━━━━━━━━━━━━━━━━\u001b[0m\u001b[37m\u001b[0m \u001b[1m23s\u001b[0m 216ms/step - kl_loss: 1.6149e-09 - loss: 0.2723 - recon_loss: 0.2723\n",
            "Epoch 22/30\n",
            "\u001b[1m106/106\u001b[0m \u001b[32m━━━━━━━━━━━━━━━━━━━━\u001b[0m\u001b[37m\u001b[0m \u001b[1m23s\u001b[0m 214ms/step - kl_loss: 3.6177e-10 - loss: 0.2770 - recon_loss: 0.2770\n",
            "Epoch 23/30\n",
            "\u001b[1m106/106\u001b[0m \u001b[32m━━━━━━━━━━━━━━━━━━━━\u001b[0m\u001b[37m\u001b[0m \u001b[1m23s\u001b[0m 218ms/step - kl_loss: 6.1483e-10 - loss: 0.2828 - recon_loss: 0.2828\n",
            "Epoch 24/30\n",
            "\u001b[1m106/106\u001b[0m \u001b[32m━━━━━━━━━━━━━━━━━━━━\u001b[0m\u001b[37m\u001b[0m \u001b[1m21s\u001b[0m 202ms/step - kl_loss: 1.1344e-10 - loss: 0.2858 - recon_loss: 0.2858\n",
            "Epoch 25/30\n",
            "\u001b[1m106/106\u001b[0m \u001b[32m━━━━━━━━━━━━━━━━━━━━\u001b[0m\u001b[37m\u001b[0m \u001b[1m22s\u001b[0m 206ms/step - kl_loss: 1.1997e-11 - loss: 0.2743 - recon_loss: 0.2743\n",
            "Epoch 26/30\n",
            "\u001b[1m106/106\u001b[0m \u001b[32m━━━━━━━━━━━━━━━━━━━━\u001b[0m\u001b[37m\u001b[0m \u001b[1m22s\u001b[0m 211ms/step - kl_loss: 1.6751e-11 - loss: 0.2846 - recon_loss: 0.2846\n",
            "Epoch 27/30\n",
            "\u001b[1m106/106\u001b[0m \u001b[32m━━━━━━━━━━━━━━━━━━━━\u001b[0m\u001b[37m\u001b[0m \u001b[1m23s\u001b[0m 215ms/step - kl_loss: 0.0000e+00 - loss: 0.2737 - recon_loss: 0.2737\n",
            "Epoch 28/30\n",
            "\u001b[1m106/106\u001b[0m \u001b[32m━━━━━━━━━━━━━━━━━━━━\u001b[0m\u001b[37m\u001b[0m \u001b[1m24s\u001b[0m 224ms/step - kl_loss: 0.0000e+00 - loss: 0.2769 - recon_loss: 0.2769\n",
            "Epoch 29/30\n",
            "\u001b[1m106/106\u001b[0m \u001b[32m━━━━━━━━━━━━━━━━━━━━\u001b[0m\u001b[37m\u001b[0m \u001b[1m23s\u001b[0m 213ms/step - kl_loss: 0.0000e+00 - loss: 0.2767 - recon_loss: 0.2767\n",
            "Epoch 30/30\n",
            "\u001b[1m106/106\u001b[0m \u001b[32m━━━━━━━━━━━━━━━━━━━━\u001b[0m\u001b[37m\u001b[0m \u001b[1m24s\u001b[0m 222ms/step - kl_loss: 0.0000e+00 - loss: 0.2807 - recon_loss: 0.2807\n"
          ]
        },
        {
          "data": {
            "text/plain": [
              "<keras.src.callbacks.history.History at 0x73508cf217f0>"
            ]
          },
          "execution_count": 6,
          "metadata": {},
          "output_type": "execute_result"
        }
      ],
      "source": [
        "# Assuming both are shaped (num_samples, 500)\n",
        "ecg_data = np.load(\"/home/psyche/Documents/ProJect64/ProJect64 System Architect/Data/Model_data/ecgModel_data.npy\")\n",
        "pcg_data = np.load(\"/home/psyche/Documents/ProJect64/ProJect64 System Architect/Data/Model_data/pcgModel_data.npy\")\n",
        "\n",
        "ecg_encoder = build_encoder(5000, latent_dim=18, hidden_dims=[512, 256], name_prefix=\"ecg\")\n",
        "pcg_encoder = build_encoder(5000, latent_dim=18, hidden_dims=[512, 256], name_prefix=\"pcg\")\n",
        "\n",
        "ecg_decoder = build_decoder(5000, latent_dim=36, hidden_dims=[256, 512], name_prefix=\"ecg\")\n",
        "pcg_decoder = build_decoder(5000, latent_dim=36, hidden_dims=[256, 512], name_prefix=\"pcg\")\n",
        "\n",
        "vae = MultimodalVAE(ecg_encoder, pcg_encoder, ecg_decoder, pcg_decoder, latent_dim=36)\n",
        "vae.compile(optimizer=Adam(1e-3))\n",
        "vae.summary()\n",
        "vae.fit(\n",
        "    {\"ecg_input\": ecg_data, \"pcg_input\": pcg_data},\n",
        "    epochs=30,\n",
        "    batch_size=32\n",
        ")\n"
      ]
    },
    {
      "cell_type": "markdown",
      "metadata": {},
      "source": [
        "## ROC's"
      ]
    },
    {
      "cell_type": "code",
      "execution_count": 1,
      "metadata": {},
      "outputs": [],
      "source": [
        "from sklearn.metrics import roc_curve, auc\n",
        "\n",
        "def compute_roc_threshold(y_true, scores):\n",
        "    fpr, tpr, thresholds = roc_curve(y_true, scores)\n",
        "    roc_auc = auc(fpr, tpr)\n",
        "\n",
        "    # Youden's J statistic\n",
        "    j_scores = tpr - fpr\n",
        "    best_idx = j_scores.argmax()\n",
        "    best_threshold = thresholds[best_idx]\n",
        "\n",
        "    return {\n",
        "        \"fpr\": fpr,\n",
        "        \"tpr\": tpr,\n",
        "        \"thresholds\": thresholds,\n",
        "        \"auc\": roc_auc,\n",
        "        \"best_threshold\": best_threshold\n",
        "    }\n"
      ]
    },
    {
      "cell_type": "markdown",
      "metadata": {},
      "source": []
    },
    {
      "cell_type": "code",
      "execution_count": null,
      "metadata": {},
      "outputs": [],
      "source": [
        "\n",
        "\n",
        "def evaluate_roc(model, dataset, labels, plot=True):\n",
        "    \"\"\"\n",
        "    Evaluate a VAE's anomaly detection performance using ROC.\n",
        "\n",
        "    Parameters:\n",
        "    - model: Trained VAE model with encoder and decoder\n",
        "    - dataset: Numpy array or batched tf.data.Dataset of input segments (ECG, PCG, etc.)\n",
        "    - labels: Ground truth binary labels (0 = normal, 1 = anomaly)\n",
        "    - plot: Whether to plot the ROC curve\n",
        "\n",
        "    Returns:\n",
        "    - fpr, tpr, thresholds, roc_auc\n",
        "    \"\"\"\n",
        "    recon_errors = []\n",
        "    mae_loss = MeanAbsoluteError()\n",
        "\n",
        "    # If tf.data.Dataset, iterate directly\n",
        "    for batch in dataset:\n",
        "        if isinstance(batch, tuple):  # (data, labels) format\n",
        "            x = batch[0]\n",
        "        else:\n",
        "            x = batch\n",
        "\n",
        "        # Reconstruct\n",
        "        x_pred = model(x, training=False)\n",
        "        \n",
        "        # Compute reconstruction loss (per sample)\n",
        "        batch_errors = np.mean(np.abs(x.numpy() - x_pred.numpy()), axis=(1,))\n",
        "        recon_errors.extend(batch_errors)\n",
        "\n",
        "    recon_errors = np.array(recon_errors)\n",
        "    labels = np.array(labels)\n",
        "\n",
        "    # Compute ROC metrics\n",
        "    fpr, tpr, thresholds = roc_curve(labels, recon_errors)\n",
        "    roc_auc = auc(fpr, tpr)\n",
        "\n",
        "    if plot:\n",
        "        plt.figure(figsize=(6, 5))\n",
        "        plt.plot(fpr, tpr, label=f\"ROC curve (AUC = {roc_auc:.4f})\")\n",
        "        plt.plot([0, 1], [0, 1], 'k--', label=\"Random guess\")\n",
        "        plt.xlabel('False Positive Rate')\n",
        "        plt.ylabel('True Positive Rate')\n",
        "        plt.title('ROC Curve for VAE Anomaly Detection')\n",
        "        plt.legend(loc='lower right')\n",
        "        plt.grid(True)\n",
        "        plt.tight_layout()\n",
        "        plt.show()\n",
        "\n",
        "    return fpr, tpr, thresholds, roc_auc\n"
      ]
    },
    {
      "cell_type": "code",
      "execution_count": null,
      "metadata": {},
      "outputs": [],
      "source": []
    },
    {
      "cell_type": "code",
      "execution_count": null,
      "metadata": {},
      "outputs": [
        {
          "ename": "NameError",
          "evalue": "name 'vae' is not defined",
          "output_type": "error",
          "traceback": [
            "\u001b[31m---------------------------------------------------------------------------\u001b[39m",
            "\u001b[31mNameError\u001b[39m                                 Traceback (most recent call last)",
            "\u001b[36mCell\u001b[39m\u001b[36m \u001b[39m\u001b[32mIn[2]\u001b[39m\u001b[32m, line 28\u001b[39m\n\u001b[32m     25\u001b[39m     \u001b[38;5;28;01mreturn\u001b[39;00m np.array(recon_errors)\n\u001b[32m     27\u001b[39m \u001b[38;5;66;03m# %%\u001b[39;00m\n\u001b[32m---> \u001b[39m\u001b[32m28\u001b[39m y_score = get_reconstruction_errors(vae, X_ecg_test, X_pcg_test)\n\u001b[32m     30\u001b[39m \u001b[38;5;66;03m# %% [markdown]\u001b[39;00m\n\u001b[32m     31\u001b[39m \u001b[38;5;66;03m# ### Compute ROC and AUC\u001b[39;00m\n\u001b[32m     33\u001b[39m roc_results = compute_roc_threshold(y_true, y_score)\n",
            "\u001b[31mNameError\u001b[39m: name 'vae' is not defined"
          ]
        }
      ],
      "source": [
        "def get_reconstruction_errors(model, ecg_data, pcg_data):\n",
        "    recon_errors = []\n",
        "    batch_size = 32\n",
        "    for i in range(0, len(ecg_data), batch_size):\n",
        "        ecg_batch = tf.convert_to_tensor(ecg_data[i:i+batch_size], dtype=tf.float32)\n",
        "        pcg_batch = tf.convert_to_tensor(pcg_data[i:i+batch_size], dtype=tf.float32)\n",
        "\n",
        "        z_mean_ecg, z_log_var_ecg = model.ecg_encoder(ecg_batch)\n",
        "        z_mean_pcg, z_log_var_pcg = model.pcg_encoder(pcg_batch)\n",
        "        \n",
        "        z_mean = tf.concat([z_mean_ecg, z_mean_pcg], axis=1)\n",
        "        z_log_var = tf.concat([z_log_var_ecg, z_log_var_pcg], axis=1)\n",
        "\n",
        "        z = sampling(z_mean, z_log_var)\n",
        "\n",
        "        ecg_recon = model.ecg_decoder(z)\n",
        "        pcg_recon = model.pcg_decoder(z)\n",
        "\n",
        "        ecg_loss = tf.reduce_mean(tf.abs(ecg_batch - ecg_recon), axis=1)\n",
        "        pcg_loss = tf.reduce_mean(tf.abs(pcg_batch - pcg_recon), axis=1)\n",
        "\n",
        "        total_loss = ecg_loss + pcg_loss\n",
        "        recon_errors.extend(total_loss.numpy())\n",
        "\n",
        "    return np.array(recon_errors)\n",
        "\n",
        "# %%\n",
        "#y_score = get_reconstruction_errors(vae, X_ecg_test, X_pcg_test)\n",
        "\n",
        "\n",
        "# ### Compute ROC and AUC\n",
        "\n",
        "roc_results = compute_roc_threshold(y_true, y_score)\n",
        "print(f\"AUC: {roc_results['auc']:.4f}, Best threshold: {roc_results['best_threshold']:.4f}\")\n",
        "\n",
        "\n",
        "# ### Plot ROC\n",
        "\n",
        "plt.figure(figsize=(6, 5))\n",
        "plt.plot(roc_results['fpr'], roc_results['tpr'], label=f\"AUC = {roc_results['auc']:.4f}\")\n",
        "plt.plot([0, 1], [0, 1], 'k--')\n",
        "plt.xlabel('False Positive Rate')\n",
        "plt.ylabel('True Positive Rate')\n",
        "plt.title('ROC Curve for ECG + PCG VAE')\n",
        "plt.legend()\n",
        "plt.grid(True)\n",
        "plt.tight_layout()\n",
        "plt.show()\n"
      ]
    }
  ],
  "metadata": {
    "accelerator": "GPU",
    "colab": {
      "gpuType": "T4",
      "provenance": []
    },
    "kernelspec": {
      "display_name": "PhosVox",
      "language": "python",
      "name": "python3"
    },
    "language_info": {
      "codemirror_mode": {
        "name": "ipython",
        "version": 3
      },
      "file_extension": ".py",
      "mimetype": "text/x-python",
      "name": "python",
      "nbconvert_exporter": "python",
      "pygments_lexer": "ipython3",
      "version": "3.12.11"
    }
  },
  "nbformat": 4,
  "nbformat_minor": 0
}
