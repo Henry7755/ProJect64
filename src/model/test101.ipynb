{
 "cells": [
  {
   "cell_type": "markdown",
   "id": "5f0ad164",
   "metadata": {},
   "source": []
  },
  {
   "cell_type": "code",
   "execution_count": 1,
   "id": "49dc4168",
   "metadata": {},
   "outputs": [],
   "source": [
    "import tensorflow as tf\n",
    "import numpy as np\n",
    "from tensorflow.keras import layers, Model, Input\n",
    "\n",
    "def build_vae_encoder(input_dim, latent_dim=32, hidden_dims=[256, 128]):\n",
    "    \"\"\"\n",
    "    Builds the encoder for a VAE.\n",
    "    \n",
    "    Args:\n",
    "        input_dim (int): Flattened input size (e.g., 1500)\n",
    "        latent_dim (int): Size of latent vector z\n",
    "        hidden_dims (list): Sizes of hidden Dense layers\n",
    "        \n",
    "    Returns:\n",
    "        encoder: Keras Model returning z_mean, z_log_var, and sampled z\n",
    "    \"\"\"\n",
    "\n",
    "    inputs = Input(shape=(input_dim,), name=\"encoder_input\")\n",
    "    x = inputs\n",
    "\n",
    "    # Hidden layers\n",
    "    for i, dim in enumerate(hidden_dims):\n",
    "        x = layers.Dense(dim, activation=\"relu\", name=f\"enc_dense_{i}\")(x)\n",
    "\n",
    "    # Output: mean and log variance\n",
    "    z_mean = layers.Dense(latent_dim, name=\"z_mean\")(x)\n",
    "    z_log_var = layers.Dense(latent_dim, name=\"z_log_var\")(x)\n",
    "\n",
    "    # Sampling function using reparameterization trick\n",
    "    def sampling(args):\n",
    "        z_mean, z_log_var = args\n",
    "        epsilon = tf.random.normal(shape=tf.shape(z_mean))\n",
    "        return z_mean + tf.exp(0.5 * z_log_var) * epsilon\n",
    "\n",
    "    z = layers.Lambda(sampling, name=\"z\")([z_mean, z_log_var])\n",
    "\n",
    "    encoder = Model(inputs, [z_mean, z_log_var, z], name=\"vae_encoder\")\n",
    "    return encoder\n"
   ]
  },
  {
   "cell_type": "code",
   "execution_count": null,
   "id": "36e0d250",
   "metadata": {},
   "outputs": [],
   "source": [
    "encoder = build_vae_encoder(input_dim=500, latent_dim=36, hidden_dims=[512, 256])\n",
    "encoder.summary()\n"
   ]
  },
  {
   "cell_type": "code",
   "execution_count": null,
   "id": "86ad286f",
   "metadata": {},
   "outputs": [],
   "source": [
    "from tensorflow.keras import layers, Model, Input\n",
    "\n",
    "def build_vae_decoder(output_dim, latent_dim=32, hidden_dims=[128, 256]):\n",
    "    \"\"\"\n",
    "    Builds the decoder part of a VAE.\n",
    "\n",
    "    Args:\n",
    "        output_dim (int): The number of output features (e.g. 1500 for ECG+PCG+ACC)\n",
    "        latent_dim (int): The size of the latent vector z\n",
    "        hidden_dims (list): List of Dense layer sizes in reverse order of encoder\n",
    "\n",
    "    Returns:\n",
    "        decoder: A Keras Model that maps z → reconstructed signal\n",
    "    \"\"\"\n",
    "\n",
    "    latent_inputs = Input(shape=(latent_dim,), name=\"z_sampling\")\n",
    "    x = latent_inputs\n",
    "\n",
    "    for i, dim in enumerate(hidden_dims):\n",
    "        x = layers.Dense(dim, activation=\"leaky_relu\", name=f\"dec_dense_{i}\")(x)\n",
    "\n",
    "    # Final output layer\n",
    "    outputs = layers.Dense(output_dim, activation=\"tanh\", name=\"decoder_output\")(x)\n",
    "\n",
    "    decoder = Model(latent_inputs, outputs, name=\"vae_decoder\")\n",
    "    return decoder\n"
   ]
  },
  {
   "cell_type": "code",
   "execution_count": null,
   "id": "0def1487",
   "metadata": {},
   "outputs": [],
   "source": [
    "decode = build_vae_decoder(output_dim=500, latent_dim=36, hidden_dims=[256, 512])\n",
    "decode.summary()"
   ]
  },
  {
   "cell_type": "code",
   "execution_count": null,
   "id": "68e106ad",
   "metadata": {},
   "outputs": [],
   "source": [
    "import tensorflow as tf\n",
    "from tensorflow.keras import Model\n",
    "\n",
    "class VAE(Model):\n",
    "    def __init__(self, encoder, decoder, **kwargs):\n",
    "        super(VAE, self).__init__(**kwargs)\n",
    "        self.encoder = encoder\n",
    "        self.decoder = decoder\n",
    "\n",
    "    def compile(self, optimizer, loss_fn, **kwargs):\n",
    "        super(VAE, self).compile(**kwargs)\n",
    "        self.optimizer = optimizer\n",
    "        self.loss_fn = loss_fn\n",
    "        self.total_loss_tracker = tf.keras.metrics.Mean(name=\"loss\")\n",
    "        self.kl_loss_tracker = tf.keras.metrics.Mean(name=\"kl_loss\")\n",
    "        self.reconstruction_loss_tracker = tf.keras.metrics.Mean(name=\"recon_loss\")\n",
    "\n",
    "    @property\n",
    "    def metrics(self):\n",
    "        return [\n",
    "            self.total_loss_tracker,\n",
    "            self.reconstruction_loss_tracker,\n",
    "            self.kl_loss_tracker,\n",
    "        ]\n",
    "\n",
    "    def train_step(self, x):\n",
    "        with tf.GradientTape() as tape:\n",
    "            z_mean, z_log_var, z = self.encoder(x)\n",
    "            reconstruction = self.decoder(z)\n",
    "            recon_loss = self.loss_fn(x, reconstruction)\n",
    "            kl_loss = -0.5 * tf.reduce_mean(\n",
    "                tf.reduce_sum(1 + z_log_var - tf.square(z_mean) - tf.exp(z_log_var), axis=1)\n",
    "            )\n",
    "            total_loss = recon_loss + kl_loss\n",
    "\n",
    "        grads = tape.gradient(total_loss, self.trainable_weights)\n",
    "        self.optimizer.apply_gradients(zip(grads, self.trainable_weights))\n",
    "\n",
    "        self.total_loss_tracker.update_state(total_loss)\n",
    "        self.reconstruction_loss_tracker.update_state(recon_loss)\n",
    "        self.kl_loss_tracker.update_state(kl_loss)\n",
    "\n",
    "        return {\n",
    "            \"loss\": self.total_loss_tracker.result(),\n",
    "            \"recon_loss\": self.reconstruction_loss_tracker.result(),\n",
    "            \"kl_loss\": self.kl_loss_tracker.result(),\n",
    "        }\n"
   ]
  },
  {
   "cell_type": "code",
   "execution_count": null,
   "id": "020256c2",
   "metadata": {},
   "outputs": [],
   "source": [
    "from tensorflow.keras.losses import MeanSquaredError\n",
    "from tensorflow.keras.optimizers import Adam\n",
    "\n",
    "vae = VAE(encoder, decode)\n",
    "vae.compile(optimizer=Adam(1e-3), loss_fn=MeanSquaredError())\n",
    "\n",
    "#vae.fit(train_ds, epochs=30)\n",
    "\n"
   ]
  },
  {
   "cell_type": "code",
   "execution_count": null,
   "id": "3c188ae1",
   "metadata": {},
   "outputs": [],
   "source": [
    "import numpy as np \n",
    "data = np.load(r\"C:\\Users\\abusu\\Desktop\\BME\\ProJect64\\ProJect64 System Architect\\Data\\ecgModel_data.npy\")"
   ]
  },
  {
   "cell_type": "code",
   "execution_count": null,
   "id": "fd5e5c1e",
   "metadata": {},
   "outputs": [],
   "source": [
    "from tensorflow.keras.utils import plot_model\n",
    "\n",
    "tt = plot_model(encoder, show_shapes=True, show_layer_names=True)\n",
    "plot_model(decode, to_file=\"decoder.png\", show_shapes=True, show_layer_names=True)\n"
   ]
  },
  {
   "cell_type": "markdown",
   "id": "ec5ce5c8",
   "metadata": {},
   "source": []
  },
  {
   "cell_type": "code",
   "execution_count": null,
   "id": "8c66d746",
   "metadata": {},
   "outputs": [],
   "source": [
    "from IPython.display import Image\n",
    "Image(tt)\n"
   ]
  },
  {
   "cell_type": "code",
   "execution_count": 1,
   "id": "d61c4afe",
   "metadata": {},
   "outputs": [],
   "source": [
    "import numpy as np"
   ]
  },
  {
   "cell_type": "code",
   "execution_count": 2,
   "id": "ae1660b5",
   "metadata": {},
   "outputs": [
    {
     "name": "stdout",
     "output_type": "stream",
     "text": [
      "(39879, 500)\n"
     ]
    }
   ],
   "source": [
    "model_data = np.load(\"/home/psyche/Documents/ProJect64/ProJect64 System Architect/Data/Model_data.npy\")\n",
    "print(model_data.shape)"
   ]
  }
 ],
 "metadata": {
  "kernelspec": {
   "display_name": "PhosVox",
   "language": "python",
   "name": "python3"
  },
  "language_info": {
   "codemirror_mode": {
    "name": "ipython",
    "version": 3
   },
   "file_extension": ".py",
   "mimetype": "text/x-python",
   "name": "python",
   "nbconvert_exporter": "python",
   "pygments_lexer": "ipython3",
   "version": "3.12.11"
  }
 },
 "nbformat": 4,
 "nbformat_minor": 5
}
