{
 "cells": [
  {
   "cell_type": "markdown",
   "id": "954b7719",
   "metadata": {},
   "source": [
    "# Signal Processing 101\n"
   ]
  },
  {
   "cell_type": "code",
   "execution_count": 1,
   "id": "a90ebfc7",
   "metadata": {},
   "outputs": [],
   "source": [
    "import pandas as pd\n",
    "import numpy as np \n"
   ]
  },
  {
   "cell_type": "code",
   "execution_count": 19,
   "id": "f07cfbc1",
   "metadata": {},
   "outputs": [],
   "source": [
    "df= pd.read_csv(r\"C:\\Users\\abusu\\Desktop\\BME\\ProJect64\\ProJect64 System Architect\\Data\\Rel_Data\\1_10-09-54_ecg.csv\")\n",
    "fs = 500 \n",
    "x = np.array(df[\"lead_II\"])\n"
   ]
  },
  {
   "cell_type": "code",
   "execution_count": 20,
   "id": "e53e5984",
   "metadata": {},
   "outputs": [
    {
     "name": "stdout",
     "output_type": "stream",
     "text": [
      "Energy of the signal:  25347275593502\n"
     ]
    }
   ],
   "source": [
    "energy = np.sum(x**2)  # Energy calculation\n",
    "print(\"Energy of the signal: \", energy)"
   ]
  },
  {
   "cell_type": "code",
   "execution_count": 10,
   "id": "054b02a2",
   "metadata": {},
   "outputs": [
    {
     "name": "stdout",
     "output_type": "stream",
     "text": [
      "Power of the signal:  1688917616.8378198\n"
     ]
    }
   ],
   "source": [
    "power = energy / len(x)\n",
    "print(\"Power of the signal: \", power)"
   ]
  },
  {
   "cell_type": "code",
   "execution_count": null,
   "id": "61662a82",
   "metadata": {},
   "outputs": [],
   "source": []
  }
 ],
 "metadata": {
  "kernelspec": {
   "display_name": "ProJect64",
   "language": "python",
   "name": "python3"
  },
  "language_info": {
   "codemirror_mode": {
    "name": "ipython",
    "version": 3
   },
   "file_extension": ".py",
   "mimetype": "text/x-python",
   "name": "python",
   "nbconvert_exporter": "python",
   "pygments_lexer": "ipython3",
   "version": "3.12.9"
  }
 },
 "nbformat": 4,
 "nbformat_minor": 5
}
